{
 "cells": [
  {
   "cell_type": "markdown",
   "metadata": {},
   "source": [
    "# Sequential Model for Fashion Mnist Dataset"
   ]
  },
  {
   "cell_type": "code",
   "execution_count": 1,
   "metadata": {},
   "outputs": [],
   "source": [
    "\n",
    "import streamlit as st\n",
    "import matplotlib.pyplot as plt\n",
    "from PIL import Image\n",
    "import io\n",
    "import tensorflow as tf\n",
    "from tensorflow import keras\n",
    "\n",
    "%matplotlib inline"
   ]
  },
  {
   "cell_type": "code",
   "execution_count": 2,
   "metadata": {},
   "outputs": [],
   "source": [
    "import tensorflow as tf\n",
    "from tensorflow import keras\n",
    "#########\n",
    "#@ st.cache\n",
    "fas_data=keras.datasets.fashion_mnist\n",
    "(train_images,train_labels),(test_images,test_labels)=fas_data.load_data()\n",
    "\n",
    "\n",
    "############################## Class naming  #####################\n",
    "class_names=['Tshit/TOP','Trouser','Pullover','Dress','Coat',\n",
    "             'Sandel','Shirt','Sneaker','Bag','Ankle boot']"
   ]
  },
  {
   "cell_type": "code",
   "execution_count": 3,
   "metadata": {},
   "outputs": [
    {
     "name": "stdout",
     "output_type": "stream",
     "text": [
      "(60000, 28, 28)\n",
      "(10000, 28, 28)\n"
     ]
    }
   ],
   "source": [
    "print(train_images.shape)\n",
    "print(test_images.shape)"
   ]
  },
  {
   "cell_type": "code",
   "execution_count": 5,
   "metadata": {},
   "outputs": [],
   "source": []
  },
  {
   "cell_type": "code",
   "execution_count": 4,
   "metadata": {},
   "outputs": [],
   "source": [
    "import numpy as np\n",
    "def explore_data(train_images,train_label,test_images):\n",
    "    st.write('Train Images shape:',train_images.shape)\n",
    "    st.write('Test images shape:',test_images.shape)\n",
    "    #st.write(train_labels[0:20])\n",
    "    st.write('Training Classes',len(np.unique(train_labels)))\n",
    "    st.write('Testing Classes',len(np.unique(test_labels)))\n",
    "if st.button(\"Explore Data\"):\n",
    "    explore_data(train_images,train_labels,test_images)\n",
    "    \n",
    "    "
   ]
  },
  {
   "cell_type": "code",
   "execution_count": null,
   "metadata": {},
   "outputs": [],
   "source": []
  },
  {
   "cell_type": "code",
   "execution_count": 5,
   "metadata": {},
   "outputs": [
    {
     "name": "stdout",
     "output_type": "stream",
     "text": [
      "(60000, 28, 28)\n",
      "(10000, 28, 28)\n",
      "(60000, 28, 28, 1)\n",
      "(10000, 28, 28, 1)\n",
      "(60000, 10)\n"
     ]
    }
   ],
   "source": [
    "# Data preprocessing\n",
    "# input [0-255] require scaling in [0-1]\n",
    "train_images=train_images/255.0\n",
    "test_images=test_images/255.0\n",
    "# target\n",
    "train_l=keras.utils.to_categorical(train_labels,10) # 10 class\n",
    "test_l=keras.utils.to_categorical(test_labels,10)\n",
    "\n",
    "train_image=np.expand_dims(train_images,3)\n",
    "test_image=np.expand_dims(test_images,3)\n",
    "print(train_images.shape)\n",
    "print(test_images.shape)\n",
    "print(train_image.shape)\n",
    "print(test_image.shape)\n",
    "print(train_l.shape)\n",
    "\n"
   ]
  },
  {
   "cell_type": "code",
   "execution_count": null,
   "metadata": {},
   "outputs": [],
   "source": []
  },
  {
   "cell_type": "code",
   "execution_count": 7,
   "metadata": {},
   "outputs": [],
   "source": [
    "############# Select model \n",
    "model=keras.Sequential()\n",
    "model=keras.Sequential()\n",
    "model.add(keras.layers.Flatten(input_shape=(28,28))) #28 x 28=784 x 1\n",
    "model.add(keras.layers.Dense(128,activation='relu'))\n",
    "model.add(keras.layers.Dense(64,activation='relu'))\n",
    "model.add(keras.layers.Flatten())\n",
    "model.add(keras.layers.Dense(32,activation='relu'))\n",
    "model.add(keras.layers.Dropout(0.2))\n",
    "model.add(keras.layers.Dense(10,activation='softmax'))\n"
   ]
  },
  {
   "cell_type": "code",
   "execution_count": 8,
   "metadata": {
    "scrolled": true
   },
   "outputs": [
    {
     "name": "stdout",
     "output_type": "stream",
     "text": [
      "Train on 48000 samples, validate on 12000 samples\n",
      "Epoch 1/10\n",
      "48000/48000 [==============================] - 18s 367us/sample - loss: 0.6149 - accuracy: 0.7860 - val_loss: 0.4255 - val_accuracy: 0.8443\n",
      "Epoch 2/10\n",
      "48000/48000 [==============================] - 13s 263us/sample - loss: 0.4217 - accuracy: 0.8490 - val_loss: 0.3777 - val_accuracy: 0.8635\n",
      "Epoch 3/10\n",
      "48000/48000 [==============================] - 13s 263us/sample - loss: 0.3785 - accuracy: 0.8648 - val_loss: 0.3938 - val_accuracy: 0.8510\n",
      "Epoch 4/10\n",
      "48000/48000 [==============================] - 13s 265us/sample - loss: 0.3542 - accuracy: 0.8728 - val_loss: 0.3651 - val_accuracy: 0.8653\n",
      "Epoch 5/10\n",
      "48000/48000 [==============================] - 13s 275us/sample - loss: 0.3311 - accuracy: 0.8794 - val_loss: 0.3425 - val_accuracy: 0.8755\n",
      "Epoch 6/10\n",
      "48000/48000 [==============================] - 13s 263us/sample - loss: 0.3184 - accuracy: 0.8829 - val_loss: 0.3451 - val_accuracy: 0.8741\n",
      "Epoch 7/10\n",
      "48000/48000 [==============================] - 12s 250us/sample - loss: 0.3001 - accuracy: 0.8900 - val_loss: 0.3593 - val_accuracy: 0.8743\n",
      "Epoch 8/10\n",
      "48000/48000 [==============================] - 12s 258us/sample - loss: 0.2918 - accuracy: 0.8941 - val_loss: 0.3494 - val_accuracy: 0.8708\n",
      "Epoch 9/10\n",
      "48000/48000 [==============================] - 14s 287us/sample - loss: 0.2816 - accuracy: 0.8963 - val_loss: 0.3468 - val_accuracy: 0.8775\n",
      "Epoch 10/10\n",
      "48000/48000 [==============================] - 13s 267us/sample - loss: 0.2727 - accuracy: 0.9001 - val_loss: 0.3436 - val_accuracy: 0.8842\n"
     ]
    }
   ],
   "source": [
    "#########3 model compilation ##### for sequential model\n",
    "model.compile(optimizer='adam',loss='categorical_crossentropy',\n",
    "             metrics=['accuracy'])\n",
    "hist=model.fit(train_images,train_l,epochs=10,verbose=1,validation_split=0.2)\n",
    "    "
   ]
  },
  {
   "cell_type": "code",
   "execution_count": 9,
   "metadata": {},
   "outputs": [
    {
     "name": "stdout",
     "output_type": "stream",
     "text": [
      "Model: \"sequential_2\"\n",
      "_________________________________________________________________\n",
      "Layer (type)                 Output Shape              Param #   \n",
      "=================================================================\n",
      "flatten (Flatten)            (None, 784)               0         \n",
      "_________________________________________________________________\n",
      "dense (Dense)                (None, 128)               100480    \n",
      "_________________________________________________________________\n",
      "dense_1 (Dense)              (None, 64)                8256      \n",
      "_________________________________________________________________\n",
      "flatten_1 (Flatten)          (None, 64)                0         \n",
      "_________________________________________________________________\n",
      "dense_2 (Dense)              (None, 32)                2080      \n",
      "_________________________________________________________________\n",
      "dropout (Dropout)            (None, 32)                0         \n",
      "_________________________________________________________________\n",
      "dense_3 (Dense)              (None, 10)                330       \n",
      "=================================================================\n",
      "Total params: 111,146\n",
      "Trainable params: 111,146\n",
      "Non-trainable params: 0\n",
      "_________________________________________________________________\n",
      "10000/10000 [==============================] - 2s 226us/sample - loss: 0.3670 - accuracy: 0.8785\n",
      "0.8785\n"
     ]
    }
   ],
   "source": [
    "##\n",
    "model.summary()\n",
    "test_loss,test_acc=model.evaluate(test_images,test_l)\n",
    "print(test_acc)\n"
   ]
  },
  {
   "cell_type": "code",
   "execution_count": 10,
   "metadata": {},
   "outputs": [
    {
     "data": {
      "image/png": "[encoded data removed]",
      "text/plain": [
       "<Figure size 720x720 with 2 Axes>"
      ]
     },
     "metadata": {
      "needs_background": "light"
     },
     "output_type": "display_data"
    }
   ],
   "source": [
    "def history_graph():\n",
    "    plt.figure(figsize=(10,10))\n",
    "    train_acc=hist.history['accuracy']\n",
    "    val_acc=hist.history['val_accuracy']\n",
    "    train_loss=hist.history['loss']\n",
    "    val_loss=hist.history['val_loss']\n",
    "    plt.subplot(2,2,1)\n",
    "    plt.plot(train_acc,label='train acc')\n",
    "    plt.plot(val_acc,label='val acc')\n",
    "    plt.legend()\n",
    "    plt.title('acc')\n",
    "    plt.subplot(2,2,3)\n",
    "    plt.plot(train_loss,label='train loss')\n",
    "    plt.plot(val_loss,label='val loss')\n",
    "    plt.legend()\n",
    "    plt.title('loss')\n",
    "history_graph()"
   ]
  },
  {
   "cell_type": "code",
   "execution_count": 11,
   "metadata": {},
   "outputs": [],
   "source": [
    "import pickle\n",
    "with open('seq_trainHistory', 'wb') as file_pi:\n",
    "        pickle.dump(hist.history, file_pi)"
   ]
  },
  {
   "cell_type": "code",
   "execution_count": null,
   "metadata": {},
   "outputs": [],
   "source": []
  },
  {
   "cell_type": "code",
   "execution_count": 12,
   "metadata": {},
   "outputs": [
    {
     "name": "stdout",
     "output_type": "stream",
     "text": [
      "Model: \"sequential_2\"\n",
      "_________________________________________________________________\n",
      "Layer (type)                 Output Shape              Param #   \n",
      "=================================================================\n",
      "flatten (Flatten)            (None, 784)               0         \n",
      "_________________________________________________________________\n",
      "dense (Dense)                (None, 128)               100480    \n",
      "_________________________________________________________________\n",
      "dense_1 (Dense)              (None, 64)                8256      \n",
      "_________________________________________________________________\n",
      "flatten_1 (Flatten)          (None, 64)                0         \n",
      "_________________________________________________________________\n",
      "dense_2 (Dense)              (None, 32)                2080      \n",
      "_________________________________________________________________\n",
      "dropout (Dropout)            (None, 32)                0         \n",
      "_________________________________________________________________\n",
      "dense_3 (Dense)              (None, 10)                330       \n",
      "=================================================================\n",
      "Total params: 111,146\n",
      "Trainable params: 111,146\n",
      "Non-trainable params: 0\n",
      "_________________________________________________________________\n"
     ]
    }
   ],
   "source": [
    "model.summary()"
   ]
  },
  {
   "cell_type": "code",
   "execution_count": 13,
   "metadata": {},
   "outputs": [
    {
     "name": "stderr",
     "output_type": "stream",
     "text": [
      "2020-11-02 10:44:18.703 WARNING tensorflow: From C:\\Users\\Sandeep\\anaconda3\\envs\\tensorflow\\lib\\site-packages\\tensorflow_core\\python\\ops\\resource_variable_ops.py:1786: calling BaseResourceVariable.__init__ (from tensorflow.python.ops.resource_variable_ops) with constraint is deprecated and will be removed in a future version.\n",
      "Instructions for updating:\n",
      "If using Keras pass *_constraint arguments to layers.\n",
      "2020-11-02 10:44:21.601 INFO    tensorflow: Assets written to: Seq_model\\assets\n"
     ]
    }
   ],
   "source": [
    "model.save('Seq_model')"
   ]
  },
  {
   "cell_type": "code",
   "execution_count": null,
   "metadata": {},
   "outputs": [],
   "source": []
  }
 ],
 "metadata": {
  "kernelspec": {
   "display_name": "Python 3",
   "language": "python",
   "name": "python3"
  },
  "language_info": {
   "codemirror_mode": {
    "name": "ipython",
    "version": 3
   },
   "file_extension": ".py",
   "mimetype": "text/x-python",
   "name": "python",
   "nbconvert_exporter": "python",
   "pygments_lexer": "ipython3",
   "version": "3.6.12"
  }
 },
 "nbformat": 4,
 "nbformat_minor": 4
}
