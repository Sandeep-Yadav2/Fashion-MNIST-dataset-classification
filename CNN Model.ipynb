{
 "cells": [
  {
   "cell_type": "markdown",
   "metadata": {},
   "source": [
    "# CNN model For fashion Mnist Dataset Classication"
   ]
  },
  {
   "cell_type": "code",
   "execution_count": 2,
   "metadata": {},
   "outputs": [],
   "source": [
    "import tensorflow as tf\n",
    "import streamlit as st\n",
    "import numpy as np\n",
    "import matplotlib.pyplot as plt\n",
    "import cv2\n",
    "from PIL import Image\n",
    "from tensorflow import keras"
   ]
  },
  {
   "cell_type": "code",
   "execution_count": 3,
   "metadata": {},
   "outputs": [],
   "source": [
    "\n",
    "fas_data=keras.datasets.fashion_mnist\n",
    "(train_images,train_labels),(test_images,test_labels)=fas_data.load_data()\n",
    "\n",
    "\n",
    "############################## Class naming  #####################\n",
    "class_names=['Tshirt/TOP','Trouser','Pullover','Dress','Coat',\n",
    "             'Sandel','Shirt','Sneaker','Bag','Ankle boot']"
   ]
  },
  {
   "cell_type": "code",
   "execution_count": 4,
   "metadata": {},
   "outputs": [
    {
     "name": "stdout",
     "output_type": "stream",
     "text": [
      "(10000, 28, 28)\n",
      "(60000, 28, 28, 1)\n",
      "(60000, 10)\n"
     ]
    }
   ],
   "source": [
    "# Data preprocessing\n",
    "# input [0-255] require scaling in [0-1]\n",
    "train_image=train_images/255.0\n",
    "test_image=test_images/255.0\n",
    "# target\n",
    "train_l=keras.utils.to_categorical(train_labels,10) # 10 class\n",
    "test_l=keras.utils.to_categorical(test_labels,10)\n",
    "train_images=np.expand_dims(train_image,3)\n",
    "test_images=np.expand_dims(test_image,3)\n",
    "\n",
    "print(test_image.shape)\n",
    "print(train_images.shape)\n",
    "print(train_l.shape)"
   ]
  },
  {
   "cell_type": "code",
   "execution_count": 5,
   "metadata": {},
   "outputs": [
    {
     "name": "stdout",
     "output_type": "stream",
     "text": [
      "Train on 48000 samples, validate on 12000 samples\n",
      "Epoch 1/10\n",
      "48000/48000 [==============================] - 178s 4ms/sample - loss: 0.5349 - accuracy: 0.8070 - val_loss: 0.7798 - val_accuracy: 0.7663\n",
      "Epoch 2/10\n",
      "48000/48000 [==============================] - 178s 4ms/sample - loss: 0.3918 - accuracy: 0.8570 - val_loss: 1.0843 - val_accuracy: 0.6961\n",
      "Epoch 3/10\n",
      "48000/48000 [==============================] - 176s 4ms/sample - loss: 0.3669 - accuracy: 0.8664 - val_loss: 1.3915 - val_accuracy: 0.7053\n",
      "Epoch 4/10\n",
      "48000/48000 [==============================] - 186s 4ms/sample - loss: 0.3516 - accuracy: 0.8713 - val_loss: 2.4445 - val_accuracy: 0.6347\n",
      "Epoch 5/10\n",
      "48000/48000 [==============================] - 185s 4ms/sample - loss: 0.3365 - accuracy: 0.8790 - val_loss: 1.3076 - val_accuracy: 0.6835\n",
      "Epoch 6/10\n",
      "48000/48000 [==============================] - 192s 4ms/sample - loss: 0.3249 - accuracy: 0.8810 - val_loss: 0.8801 - val_accuracy: 0.7803\n",
      "Epoch 7/10\n",
      "48000/48000 [==============================] - 225s 5ms/sample - loss: 0.3165 - accuracy: 0.8832 - val_loss: 0.9406 - val_accuracy: 0.7622\n",
      "Epoch 8/10\n",
      "48000/48000 [==============================] - 201s 4ms/sample - loss: 0.3130 - accuracy: 0.8852 - val_loss: 1.3637 - val_accuracy: 0.6983\n",
      "Epoch 9/10\n",
      "48000/48000 [==============================] - 189s 4ms/sample - loss: 0.3054 - accuracy: 0.8874 - val_loss: 3.5255 - val_accuracy: 0.4972\n",
      "Epoch 10/10\n",
      "48000/48000 [==============================] - 196s 4ms/sample - loss: 0.2993 - accuracy: 0.8900 - val_loss: 1.2557 - val_accuracy: 0.7175\n",
      "Model: \"sequential\"\n",
      "_________________________________________________________________\n",
      "Layer (type)                 Output Shape              Param #   \n",
      "=================================================================\n",
      "conv2d (Conv2D)              (None, 26, 26, 32)        320       \n",
      "_________________________________________________________________\n",
      "dropout (Dropout)            (None, 26, 26, 32)        0         \n",
      "_________________________________________________________________\n",
      "dense (Dense)                (None, 26, 26, 100)       3300      \n",
      "_________________________________________________________________\n",
      "max_pooling2d (MaxPooling2D) (None, 13, 13, 100)       0         \n",
      "_________________________________________________________________\n",
      "batch_normalization (BatchNo (None, 13, 13, 100)       400       \n",
      "_________________________________________________________________\n",
      "conv2d_1 (Conv2D)            (None, 9, 9, 64)          160064    \n",
      "_________________________________________________________________\n",
      "dense_1 (Dense)              (None, 9, 9, 50)          3250      \n",
      "_________________________________________________________________\n",
      "average_pooling2d (AveragePo (None, 4, 4, 50)          0         \n",
      "_________________________________________________________________\n",
      "dropout_1 (Dropout)          (None, 4, 4, 50)          0         \n",
      "_________________________________________________________________\n",
      "conv2d_2 (Conv2D)            (None, 3, 3, 128)         25728     \n",
      "_________________________________________________________________\n",
      "flatten (Flatten)            (None, 1152)              0         \n",
      "_________________________________________________________________\n",
      "dense_2 (Dense)              (None, 10)                11530     \n",
      "=================================================================\n",
      "Total params: 204,592\n",
      "Trainable params: 204,392\n",
      "Non-trainable params: 200\n",
      "_________________________________________________________________\n"
     ]
    }
   ],
   "source": [
    "cnn_model=tf.keras.Sequential()\n",
    "cnn_model.add(tf.keras.layers.Conv2D(32,(3,3),activation='relu',\n",
    "                                 input_shape=(28,28,1))) \n",
    "cnn_model.add(tf.keras.layers.Dropout(0.4))\n",
    "cnn_model.add(tf.keras.layers.Dense(100))\n",
    "cnn_model.add(tf.keras.layers.MaxPooling2D((2,2)))\n",
    "cnn_model.add(tf.keras.layers.BatchNormalization())\n",
    "cnn_model.add(tf.keras.layers.Conv2D(64,5))\n",
    "cnn_model.add(tf.keras.layers.Dense(50))\n",
    "cnn_model.add(tf.keras.layers.AveragePooling2D(2,2))\n",
    "cnn_model.add(tf.keras.layers.Dropout(0.4))\n",
    "cnn_model.add(tf.keras.layers.Conv2D(128,2,activation='relu'))\n",
    "cnn_model.add(tf.keras.layers.Flatten())\n",
    "cnn_model.add(tf.keras.layers.Dense(10,activation='softmax')) \n",
    "cnn_model.compile(optimizer='adam', loss='categorical_crossentropy',metrics=['accuracy'])\n",
    "hist=cnn_model.fit(train_images,train_l,epochs=10,verbose=1,validation_split=0.2)\n",
    "cnn_model.summary()\n"
   ]
  },
  {
   "cell_type": "code",
   "execution_count": 9,
   "metadata": {},
   "outputs": [
    {
     "name": "stdout",
     "output_type": "stream",
     "text": [
      "10000/10000 [==============================] - 6s 648us/sample - loss: 1.2884 - accuracy: 0.7068\n",
      "0.7068\n"
     ]
    }
   ],
   "source": [
    "test_loss1,test_acc1=cnn_model.evaluate(test_images,test_l)\n",
    "print(test_acc1)"
   ]
  },
  {
   "cell_type": "code",
   "execution_count": 10,
   "metadata": {},
   "outputs": [],
   "source": [
    "import pickle\n",
    "with open('cnntrainHistory', 'wb') as file_pi:\n",
    "        pickle.dump(hist.history, file_pi)"
   ]
  },
  {
   "cell_type": "code",
   "execution_count": null,
   "metadata": {},
   "outputs": [],
   "source": [
    "def history_graph():\n",
    "    plt.figure(figsize=(10,10))\n",
    "    train_acc=hist.history['accuracy']\n",
    "    val_acc=hist.history['val_accuracy']\n",
    "    train_loss=hist.history['loss']\n",
    "    val_loss=hist.history['val_loss']\n",
    "    plt.subplot(2,2,1)\n",
    "    plt.plot(train_acc,label='train acc')\n",
    "    plt.plot(val_acc,label='val acc')\n",
    "    plt.legend()\n",
    "    plt.title('acc')\n",
    "    plt.subplot(2,2,3)\n",
    "    plt.plot(train_loss,label='train loss')\n",
    "    plt.plot(val_loss,label='val loss')\n",
    "    plt.legend()\n",
    "    plt.title('loss')\n",
    "history_graph()"
   ]
  }
 ],
 "metadata": {
  "kernelspec": {
   "display_name": "Python 3",
   "language": "python",
   "name": "python3"
  },
  "language_info": {
   "codemirror_mode": {
    "name": "ipython",
    "version": 3
   },
   "file_extension": ".py",
   "mimetype": "text/x-python",
   "name": "python",
   "nbconvert_exporter": "python",
   "pygments_lexer": "ipython3",
   "version": "3.6.12"
  }
 },
 "nbformat": 4,
 "nbformat_minor": 4
}
